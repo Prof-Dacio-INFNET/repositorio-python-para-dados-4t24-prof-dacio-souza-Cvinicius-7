{
 "cells": [
  {
   "cell_type": "markdown",
   "metadata": {},
   "source": [
    "# titulo 1"
   ]
  },
  {
   "cell_type": "code",
   "execution_count": 1,
   "metadata": {},
   "outputs": [
    {
     "name": "stdout",
     "output_type": "stream",
     "text": [
      "Collecting pandas\n",
      "  Downloading pandas-2.2.3-cp312-cp312-win_amd64.whl.metadata (19 kB)\n",
      "Collecting numpy>=1.26.0 (from pandas)\n",
      "  Downloading numpy-2.1.2-cp312-cp312-win_amd64.whl.metadata (59 kB)\n",
      "     ---------------------------------------- 0.0/59.7 kB ? eta -:--:--\n",
      "     ---------------------------------------- 0.0/59.7 kB ? eta -:--:--\n",
      "     ------------------- ------------------ 30.7/59.7 kB 660.6 kB/s eta 0:00:01\n",
      "     -------------------------------------- 59.7/59.7 kB 634.7 kB/s eta 0:00:00\n",
      "Requirement already satisfied: python-dateutil>=2.8.2 in c:\\users\\pvini\\appdata\\roaming\\python\\python312\\site-packages (from pandas) (2.9.0.post0)\n",
      "Collecting pytz>=2020.1 (from pandas)\n",
      "  Downloading pytz-2024.2-py2.py3-none-any.whl.metadata (22 kB)\n",
      "Collecting tzdata>=2022.7 (from pandas)\n",
      "  Downloading tzdata-2024.2-py2.py3-none-any.whl.metadata (1.4 kB)\n",
      "Requirement already satisfied: six>=1.5 in c:\\users\\pvini\\appdata\\roaming\\python\\python312\\site-packages (from python-dateutil>=2.8.2->pandas) (1.16.0)\n",
      "Downloading pandas-2.2.3-cp312-cp312-win_amd64.whl (11.5 MB)\n",
      "   ---------------------------------------- 0.0/11.5 MB ? eta -:--:--\n",
      "    --------------------------------------- 0.3/11.5 MB 8.3 MB/s eta 0:00:02\n",
      "   -- ------------------------------------- 0.9/11.5 MB 10.9 MB/s eta 0:00:01\n",
      "   --- ------------------------------------ 0.9/11.5 MB 8.4 MB/s eta 0:00:02\n",
      "   ----- ---------------------------------- 1.6/11.5 MB 11.6 MB/s eta 0:00:01\n",
      "   ------- -------------------------------- 2.1/11.5 MB 12.0 MB/s eta 0:00:01\n",
      "   --------- ------------------------------ 2.8/11.5 MB 12.6 MB/s eta 0:00:01\n",
      "   ------------ --------------------------- 3.5/11.5 MB 13.0 MB/s eta 0:00:01\n",
      "   -------------- ------------------------- 4.1/11.5 MB 13.7 MB/s eta 0:00:01\n",
      "   ---------------- ----------------------- 4.7/11.5 MB 14.4 MB/s eta 0:00:01\n",
      "   ------------------ --------------------- 5.3/11.5 MB 14.9 MB/s eta 0:00:01\n",
      "   -------------------- ------------------- 6.0/11.5 MB 14.7 MB/s eta 0:00:01\n",
      "   ----------------------- ---------------- 6.7/11.5 MB 15.3 MB/s eta 0:00:01\n",
      "   ------------------------- -------------- 7.3/11.5 MB 15.1 MB/s eta 0:00:01\n",
      "   ---------------------------- ----------- 8.1/11.5 MB 15.8 MB/s eta 0:00:01\n",
      "   ------------------------------ --------- 8.8/11.5 MB 16.1 MB/s eta 0:00:01\n",
      "   --------------------------------- ------ 9.6/11.5 MB 16.1 MB/s eta 0:00:01\n",
      "   ----------------------------------- ---- 10.3/11.5 MB 16.8 MB/s eta 0:00:01\n",
      "   -------------------------------------- - 11.0/11.5 MB 17.2 MB/s eta 0:00:01\n",
      "   ---------------------------------------  11.3/11.5 MB 17.7 MB/s eta 0:00:01\n",
      "   ---------------------------------------  11.5/11.5 MB 17.7 MB/s eta 0:00:01\n",
      "   ---------------------------------------- 11.5/11.5 MB 16.8 MB/s eta 0:00:00\n",
      "Downloading numpy-2.1.2-cp312-cp312-win_amd64.whl (12.6 MB)\n",
      "   ---------------------------------------- 0.0/12.6 MB ? eta -:--:--\n",
      "   -- ------------------------------------- 0.9/12.6 MB 27.7 MB/s eta 0:00:01\n",
      "   ----- ---------------------------------- 1.7/12.6 MB 27.9 MB/s eta 0:00:01\n",
      "   ------- -------------------------------- 2.4/12.6 MB 25.8 MB/s eta 0:00:01\n",
      "   ---------- ----------------------------- 3.2/12.6 MB 22.4 MB/s eta 0:00:01\n",
      "   ------------- -------------------------- 4.1/12.6 MB 24.1 MB/s eta 0:00:01\n",
      "   --------------- ------------------------ 4.8/12.6 MB 23.7 MB/s eta 0:00:01\n",
      "   ----------------- ---------------------- 5.5/12.6 MB 22.0 MB/s eta 0:00:01\n",
      "   -------------------- ------------------- 6.3/12.6 MB 22.6 MB/s eta 0:00:01\n",
      "   ---------------------- ----------------- 7.1/12.6 MB 22.9 MB/s eta 0:00:01\n",
      "   ------------------------- -------------- 7.9/12.6 MB 21.9 MB/s eta 0:00:01\n",
      "   --------------------------- ------------ 8.7/12.6 MB 22.3 MB/s eta 0:00:01\n",
      "   ------------------------------- -------- 9.8/12.6 MB 22.4 MB/s eta 0:00:01\n",
      "   --------------------------------- ------ 10.6/12.6 MB 22.6 MB/s eta 0:00:01\n",
      "   ------------------------------------ --- 11.6/12.6 MB 21.8 MB/s eta 0:00:01\n",
      "   -------------------------------------- - 12.2/12.6 MB 21.8 MB/s eta 0:00:01\n",
      "   ---------------------------------------  12.6/12.6 MB 21.9 MB/s eta 0:00:01\n",
      "   ---------------------------------------- 12.6/12.6 MB 19.9 MB/s eta 0:00:00\n",
      "Downloading pytz-2024.2-py2.py3-none-any.whl (508 kB)\n",
      "   ---------------------------------------- 0.0/508.0 kB ? eta -:--:--\n",
      "   --------------------------------------- 508.0/508.0 kB 31.1 MB/s eta 0:00:00\n",
      "Downloading tzdata-2024.2-py2.py3-none-any.whl (346 kB)\n",
      "   ---------------------------------------- 0.0/346.6 kB ? eta -:--:--\n",
      "   --------------------------------------- 346.6/346.6 kB 21.0 MB/s eta 0:00:00\n",
      "Installing collected packages: pytz, tzdata, numpy, pandas\n"
     ]
    },
    {
     "name": "stderr",
     "output_type": "stream",
     "text": [
      "  WARNING: Failed to write executable - trying to use .deleteme logic\n",
      "ERROR: Could not install packages due to an OSError: [WinError 2] O sistema não pode encontrar o arquivo especificado: 'C:\\\\Python312\\\\Scripts\\\\f2py.exe' -> 'C:\\\\Python312\\\\Scripts\\\\f2py.exe.deleteme'\n",
      "\n",
      "\n",
      "[notice] A new release of pip is available: 24.0 -> 24.2\n",
      "[notice] To update, run: python.exe -m pip install --upgrade pip\n"
     ]
    }
   ],
   "source": [
    "!pip install pandas"
   ]
  },
  {
   "cell_type": "markdown",
   "metadata": {},
   "source": [
    "# titulo2"
   ]
  }
 ],
 "metadata": {
  "kernelspec": {
   "display_name": "Python 3",
   "language": "python",
   "name": "python3"
  },
  "language_info": {
   "codemirror_mode": {
    "name": "ipython",
    "version": 3
   },
   "file_extension": ".py",
   "mimetype": "text/x-python",
   "name": "python",
   "nbconvert_exporter": "python",
   "pygments_lexer": "ipython3",
   "version": "3.12.3"
  }
 },
 "nbformat": 4,
 "nbformat_minor": 2
}
